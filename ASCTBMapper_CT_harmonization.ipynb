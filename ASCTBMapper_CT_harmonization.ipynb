{
  "cells": [
    {
      "cell_type": "markdown",
      "metadata": {
        "id": "YGzgmUs4U_Pu"
      },
      "source": [
        "# ASCT+B CT-Label Mapper\n",
        "\n",
        "## Package has been deployed on the `PyPi` test server [here](https://test.pypi.org/project/asctb-ct-label-mapper/).\n",
        "\n",
        "Ideally you should be able to install it on your local machine, but remember to install the `pytorch` dependent packages seperately."
      ]
    },
    {
      "cell_type": "code",
      "execution_count": null,
      "metadata": {
        "colab": {
          "base_uri": "https://localhost:8080/"
        },
        "id": "wDRJ1cNyUiua",
        "outputId": "57c527cd-69fe-42fd-aee0-09211fb89b71"
      },
      "outputs": [],
      "source": [
        "!pip uninstall asctb-ct-label-mapper\n",
        "\n",
        "!pip install --index-url https://test.pypi.org/simple/ --no-deps asctb-ct-label-mapper"
      ]
    },
    {
      "cell_type": "markdown",
      "metadata": {
        "id": "IwfXa1KkUjeK"
      },
      "source": [
        "# Install external dependencies\n",
        "\n",
        "Packages dependent on `pytorch` are tricky to handle in the pure Python package-build.\n",
        "\n",
        "Hence, for now ensure that you've got `pytorch` setup on your local machine (Google Colab already has it set up).\n",
        "\n",
        "Run the following `pip install` command to install the packages dependent transitively on `pytorch`."
      ]
    },
    {
      "cell_type": "code",
      "execution_count": null,
      "metadata": {
        "colab": {
          "base_uri": "https://localhost:8080/"
        },
        "id": "Wwf7Xn3-73qu",
        "outputId": "f03e7b5b-6c17-42fb-9c92-6c18a4aeb59d"
      },
      "outputs": [],
      "source": [
        "!pip install sentence-transformers contractions num2words umap-learn"
      ]
    },
    {
      "cell_type": "markdown",
      "metadata": {
        "id": "KW44zGBxVZbn"
      },
      "source": [
        "## Setting up the experimental pipeline\n",
        "\n",
        "1. Create your raw-input labels as Python iterables (`np.array`/`list`/`set`/...)\n",
        "2. Generate/Fetch the latest ASCT+B Embeddings for the specific Organ and Version (for more information on ASCT+B please visit the [ASCT+B Master Tables](https://hubmapconsortium.github.io/ccf-asct-reporter/)).\n",
        "3. Map all input raw-labels to this standard controlled vocabulary maintained by ASCT+B.\n",
        "\n",
        "Your final output should be a detailed Pandas dataframe containing information on cleaned-input-label, matched ASCTB label, cosine-similarity score, etc."
      ]
    },
    {
      "cell_type": "markdown",
      "metadata": {
        "id": "BYp_0JA6g0Cc"
      },
      "source": [
        "Choose a BERT model to create the reference embeddings.\n",
        "\n",
        "We recommend the `mpnet-base-v2` model that was trained on 1 billion training sentence-pairs. It performs very well as a sentence and paragraph encoder. Given an input text, it outputs a vector which captures semantic information to be used for information retrieval, clustering, or text similarity tasks.\n",
        "\n",
        ">  MPNet : `Masked and Permuted Pre-training for Language Modeling`\n",
        "\n",
        "Other models hosted on HuggingFace are available: [here](https://www.sbert.net/docs/pretrained_models.html)."
      ]
    },
    {
      "cell_type": "code",
      "execution_count": 1,
      "metadata": {
        "id": "Ot2D7kK4gwi6"
      },
      "outputs": [],
      "source": [
        "from sentence_transformers import SentenceTransformer\n",
        "\n",
        "SENTENCE_ENCODING_MODEL = SentenceTransformer('all-mpnet-base-v2')"
      ]
    },
    {
      "cell_type": "code",
      "execution_count": 3,
      "metadata": {
        "id": "QTKdSFGL5uYp"
      },
      "outputs": [],
      "source": [
        "import numpy as np, pandas as pd\n",
        "\n",
        "\n",
        "VERBOSE = False\n",
        "ASCTB_ORGAN = 'Lung'\n",
        "ASCTB_VERSION = 'v1.2'\n",
        "MAX_TEXT_LENGTH = 200 # len(text) to use while converting into embedding\n",
        "K = 2\n",
        "\n",
        "\n",
        "celltypist_labels = np.array([\n",
        "    'EC aerocyte capillary', 'EC general capillary', 'Mesothelium', 'EC venous pulmonary', 'EC arterial', \n",
        "    'Lymphatic EC mature', 'EC venous systemic', 'Smooth muscle', 'AT1', 'Mast cells', 'Interstitial MÏ† perivascular', \n",
        "    'Monocyte-derived MÏ†', 'Alveolar MÏ† CCL3+', 'Alveolar macrophages', 'DC2', 'Classical monocytes', 'DC1', \n",
        "    'Plasmacytoid DCs', 'NK cells', 'B cells', 'Plasma cells', 'Non-classical monocytes', 'Alveolar MÏ† proliferating', \n",
        "    'AT2', 'Transitional Club-AT2', 'Pericytes', 'Adventitial fibroblasts', 'CD8 T cells', 'CD4 T cells', 'Club (non-nasal)', \n",
        "    'Suprabasal', 'AT2 proliferating', 'Basal resting', 'T cells proliferating', 'Multiciliated (non-nasal)', \n",
        "    'Alveolar fibroblasts', 'Myofibroblasts', 'Neuroendocrine', 'Ionocyte'\n",
        "])\n",
        "\n",
        "azimuth_labels = np.array([\n",
        "    'EC aerocyte capillary', 'EC general capillary', 'EC venous pulmonary', 'EC arterial', 'Club (non-nasal)', \n",
        "    'Smooth muscle', 'Suprabasal', 'AT1', 'Mast cells', 'Interstitial Mφ perivascular', 'DC2', 'Monocyte-derived Mφ', \n",
        "    'DC1', 'Migratory DCs', 'Plasmacytoid DCs', 'B cells', 'Plasma cells', 'Classical monocytes', 'Non-classical monocytes', \n",
        "    'Basal resting', 'Alveolar Mφ CCL3+', 'Alveolar macrophages', 'Transitional Club-AT2', 'CD4 T cells', 'Pericytes', \n",
        "    'Mesothelium', 'NK cells', 'CD8 T cells', 'EC venous systemic', 'AT2', 'Adventitial fibroblasts', 'Alveolar fibroblasts',\n",
        "    'AT2 proliferating', 'Lymphatic EC mature', 'Alveolar Mφ proliferating', 'T cells proliferating', 'Myofibroblasts', \n",
        "    'Multiciliated (non-nasal)', 'Multiciliated (nasal)', 'Peribronchial fibroblasts', 'Neuroendocrine', \n",
        "    'Subpleural fibroblasts', 'Ionocyte', 'Club (nasal)', 'Fibromyocytes', 'SMG duct', 'SMG serous (bronchial)', \n",
        "    'Deuterosomal', 'Goblet (nasal)', 'Goblet (bronchial)', 'SMG mucous', 'Tuft'\n",
        "])\n",
        "\n",
        "\n",
        "\n",
        "popv_labels = np.array([\n",
        "    'non-classical monocyte', 'classical monocyte', 'CD8-positive, alpha-beta T cell', 'mature NK T cell', 'CD4-positive, alpha-beta T cell', \n",
        "    'basophil', 'capillary endothelial cell', 'endothelial cell of artery', 'lung microvascular endothelial cell', 'vein endothelial cell', \n",
        "    'dendritic cell', 'blood vessel endothelial cell', 'endothelial cell of lymphatic vessel', 'type II pneumocyte', 'fibroblast', \n",
        "    'bronchial smooth muscle cell', 'macrophage', 'intermediate monocyte', 'B cell', 'type I pneumocyte', 'club cell', 'respiratory goblet cell', \n",
        "    'basal cell', 'effector CD4-positive, alpha-beta T cell', 'adventitial cell', 'lung ciliated cell', 'mesothelial cell', 'pericyte', \n",
        "    'vascular associated smooth muscle cell', 'plasma cell', 'smooth muscle cell', 'plasmacytoid dendritic cell', 'neutrophil', \n",
        "    'pulmonary ionocyte', 'serous cell of epithelium of bronchus'\n",
        "    ])\n",
        "\n",
        "\n",
        "source_vs_labels_dict = {\n",
        "    'CellTypist' : celltypist_labels,\n",
        "    'Azimuth' : azimuth_labels, \n",
        "    'PopV' : popv_labels\n",
        "}"
      ]
    },
    {
      "cell_type": "code",
      "execution_count": 4,
      "metadata": {
        "colab": {
          "base_uri": "https://localhost:8080/"
        },
        "id": "6rPaBqRThLsz",
        "outputId": "7dc0e581-9126-48c1-fa8a-b4d543322701"
      },
      "outputs": [
        {
          "name": "stdout",
          "output_type": "stream",
          "text": [
            "Downloading NLP models required for preprocessing...\n",
            "Models downloaded and ready for use!\n"
          ]
        }
      ],
      "source": [
        "from asctb_ct_label_mapper.utilities.nlp_preprocessing import download_nlp_models\n",
        "\n",
        "# Download the NLP preprocessing artifacts\n",
        "download_nlp_models()"
      ]
    },
    {
      "cell_type": "code",
      "execution_count": 6,
      "metadata": {
        "colab": {
          "base_uri": "https://localhost:8080/",
          "height": 235
        },
        "id": "JnDN1rLs7VZy",
        "outputId": "7bfc1f08-4f7e-45eb-b903-838e7e598af7"
      },
      "outputs": [
        {
          "name": "stdout",
          "output_type": "stream",
          "text": [
            "Created the reference embeddings for Lungv1.2 at ontology_embeddings/ASCTB_Lungv1_2.pkl.\n",
            "asctb_embeddings_df=(83, 6)\n",
            "Standardizing labels for CellTypist\n",
            "Standardizing labels for Azimuth\n",
            "Standardizing labels for PopV\n",
            "Wrote the final translations-mapping files to csv!\n"
          ]
        },
        {
          "data": {
            "text/html": [
              "<div>\n",
              "<style scoped>\n",
              "    .dataframe tbody tr th:only-of-type {\n",
              "        vertical-align: middle;\n",
              "    }\n",
              "\n",
              "    .dataframe tbody tr th {\n",
              "        vertical-align: top;\n",
              "    }\n",
              "\n",
              "    .dataframe thead th {\n",
              "        text-align: right;\n",
              "    }\n",
              "</style>\n",
              "<table border=\"1\" class=\"dataframe\">\n",
              "  <thead>\n",
              "    <tr style=\"text-align: right;\">\n",
              "      <th></th>\n",
              "      <th>source</th>\n",
              "      <th>raw_input_label</th>\n",
              "      <th>cleaned_input_label</th>\n",
              "      <th>match_score_1</th>\n",
              "      <th>matched_asctb_id_1</th>\n",
              "      <th>matched_asctb_label_1</th>\n",
              "      <th>matched_asctb_text_1</th>\n",
              "      <th>match_score_2</th>\n",
              "      <th>matched_asctb_id_2</th>\n",
              "      <th>matched_asctb_label_2</th>\n",
              "      <th>matched_asctb_text_2</th>\n",
              "    </tr>\n",
              "  </thead>\n",
              "  <tbody>\n",
              "    <tr>\n",
              "      <th>0</th>\n",
              "      <td>CellTypist</td>\n",
              "      <td>EC aerocyte capillary</td>\n",
              "      <td>ec aerocyte capillary</td>\n",
              "      <td>0.601205</td>\n",
              "      <td>CL:4028003</td>\n",
              "      <td>CAP2 aerocyte capillary gCap</td>\n",
              "      <td>CAP2 aerocyte capillary gCap capillary endothe...</td>\n",
              "      <td>0.503849</td>\n",
              "      <td>CL:0002062</td>\n",
              "      <td>AT1</td>\n",
              "      <td>AT1 type I pneumocyte A type I pneumocyte is a...</td>\n",
              "    </tr>\n",
              "    <tr>\n",
              "      <th>1</th>\n",
              "      <td>CellTypist</td>\n",
              "      <td>EC general capillary</td>\n",
              "      <td>ec general capillary</td>\n",
              "      <td>0.477796</td>\n",
              "      <td>CL:4028002</td>\n",
              "      <td>CAP1 general capillary aCap</td>\n",
              "      <td>CAP1 general capillary aCap capillary endothel...</td>\n",
              "      <td>0.428388</td>\n",
              "      <td>CL:4028003</td>\n",
              "      <td>CAP2 aerocyte capillary gCap</td>\n",
              "      <td>CAP2 aerocyte capillary gCap capillary endothe...</td>\n",
              "    </tr>\n",
              "    <tr>\n",
              "      <th>2</th>\n",
              "      <td>CellTypist</td>\n",
              "      <td>Mesothelium</td>\n",
              "      <td>mesothelium</td>\n",
              "      <td>0.525191</td>\n",
              "      <td>CL:1000493</td>\n",
              "      <td>mesothelial cell</td>\n",
              "      <td>mesothelial cell mesothelial cell of visceral ...</td>\n",
              "      <td>0.393562</td>\n",
              "      <td>ASCTB CT_ID UNK</td>\n",
              "      <td>suprabasal cell</td>\n",
              "      <td>suprabasal cell</td>\n",
              "    </tr>\n",
              "    <tr>\n",
              "      <th>3</th>\n",
              "      <td>CellTypist</td>\n",
              "      <td>EC venous pulmonary</td>\n",
              "      <td>ec venou pulmonary</td>\n",
              "      <td>0.632037</td>\n",
              "      <td>CL:0002543</td>\n",
              "      <td>pulmonary venous endothelial cell</td>\n",
              "      <td>pulmonary venous endothelial cell vein endothe...</td>\n",
              "      <td>0.503115</td>\n",
              "      <td>CL:0002543</td>\n",
              "      <td>venous endothelial cell</td>\n",
              "      <td>venous endothelial cell vein endothelial cell ...</td>\n",
              "    </tr>\n",
              "    <tr>\n",
              "      <th>4</th>\n",
              "      <td>CellTypist</td>\n",
              "      <td>EC arterial</td>\n",
              "      <td>ec arterial</td>\n",
              "      <td>0.51338</td>\n",
              "      <td>CL:1000413</td>\n",
              "      <td>arterial endothelial cell</td>\n",
              "      <td>arterial endothelial cell arterial endothelial...</td>\n",
              "      <td>0.460811</td>\n",
              "      <td>CL:0002543</td>\n",
              "      <td>venous endothelial cell</td>\n",
              "      <td>venous endothelial cell vein endothelial cell ...</td>\n",
              "    </tr>\n",
              "    <tr>\n",
              "      <th>...</th>\n",
              "      <td>...</td>\n",
              "      <td>...</td>\n",
              "      <td>...</td>\n",
              "      <td>...</td>\n",
              "      <td>...</td>\n",
              "      <td>...</td>\n",
              "      <td>...</td>\n",
              "      <td>...</td>\n",
              "      <td>...</td>\n",
              "      <td>...</td>\n",
              "      <td>...</td>\n",
              "    </tr>\n",
              "    <tr>\n",
              "      <th>30</th>\n",
              "      <td>PopV</td>\n",
              "      <td>smooth muscle cell</td>\n",
              "      <td>smooth muscle cell</td>\n",
              "      <td>0.770995</td>\n",
              "      <td>CL:0002598</td>\n",
              "      <td>bronchial smooth muscle cell</td>\n",
              "      <td>bronchial smooth muscle cell bronchial smooth ...</td>\n",
              "      <td>0.732254</td>\n",
              "      <td>CL:0002591</td>\n",
              "      <td>pulmonary artery smooth muscle cell</td>\n",
              "      <td>pulmonary artery smooth muscle cell smooth mus...</td>\n",
              "    </tr>\n",
              "    <tr>\n",
              "      <th>31</th>\n",
              "      <td>PopV</td>\n",
              "      <td>plasmacytoid dendritic cell</td>\n",
              "      <td>plasmacytoid dendritic cell</td>\n",
              "      <td>1.0</td>\n",
              "      <td>CL:0000784</td>\n",
              "      <td>plasmacytoid dendritic cell</td>\n",
              "      <td>A dendritic cell type of distinct morphology, ...</td>\n",
              "      <td>0.734760</td>\n",
              "      <td>CL:0002399</td>\n",
              "      <td>cDC2 myeloid dendritic cell</td>\n",
              "      <td>cDC2 myeloid dendritic cell myeloid dendritic ...</td>\n",
              "    </tr>\n",
              "    <tr>\n",
              "      <th>32</th>\n",
              "      <td>PopV</td>\n",
              "      <td>neutrophil</td>\n",
              "      <td>neutrophil</td>\n",
              "      <td>1.0</td>\n",
              "      <td>CL:0000094</td>\n",
              "      <td>neutrophil</td>\n",
              "      <td>A leukocyte with abundant granules in the cyto...</td>\n",
              "      <td>0.513676</td>\n",
              "      <td>LMHA:00213</td>\n",
              "      <td>Interstitial macrophage</td>\n",
              "      <td>Interstitial macrophage Interstitial macrophag...</td>\n",
              "    </tr>\n",
              "    <tr>\n",
              "      <th>33</th>\n",
              "      <td>PopV</td>\n",
              "      <td>pulmonary ionocyte</td>\n",
              "      <td>pulmonary ionocyte</td>\n",
              "      <td>1.0</td>\n",
              "      <td>CL:0017000</td>\n",
              "      <td>pulmonary ionocyte</td>\n",
              "      <td>An ionocyte that is part of the lung epitheliu...</td>\n",
              "      <td>0.650953</td>\n",
              "      <td>CL:0009089</td>\n",
              "      <td>lung pericyte</td>\n",
              "      <td>lung pericyte lung pericyte A pericyte cell th...</td>\n",
              "    </tr>\n",
              "    <tr>\n",
              "      <th>34</th>\n",
              "      <td>PopV</td>\n",
              "      <td>serous cell of epithelium of bronchus</td>\n",
              "      <td>serou cell of epithelium of bronchu</td>\n",
              "      <td>0.738724</td>\n",
              "      <td>CL:0002208</td>\n",
              "      <td>tuft cell</td>\n",
              "      <td>tuft cell brush cell of bronchus A brush cell ...</td>\n",
              "      <td>0.730998</td>\n",
              "      <td>CL:0002332</td>\n",
              "      <td>ciliated bronchial cell</td>\n",
              "      <td>ciliated bronchial cell ciliated cell of the b...</td>\n",
              "    </tr>\n",
              "  </tbody>\n",
              "</table>\n",
              "<p>126 rows × 11 columns</p>\n",
              "</div>"
            ],
            "text/plain": [
              "        source                        raw_input_label  \\\n",
              "0   CellTypist                  EC aerocyte capillary   \n",
              "1   CellTypist                   EC general capillary   \n",
              "2   CellTypist                            Mesothelium   \n",
              "3   CellTypist                    EC venous pulmonary   \n",
              "4   CellTypist                            EC arterial   \n",
              "..         ...                                    ...   \n",
              "30        PopV                     smooth muscle cell   \n",
              "31        PopV            plasmacytoid dendritic cell   \n",
              "32        PopV                             neutrophil   \n",
              "33        PopV                     pulmonary ionocyte   \n",
              "34        PopV  serous cell of epithelium of bronchus   \n",
              "\n",
              "                    cleaned_input_label match_score_1 matched_asctb_id_1  \\\n",
              "0                 ec aerocyte capillary      0.601205         CL:4028003   \n",
              "1                  ec general capillary      0.477796         CL:4028002   \n",
              "2                           mesothelium      0.525191         CL:1000493   \n",
              "3                    ec venou pulmonary      0.632037         CL:0002543   \n",
              "4                           ec arterial       0.51338         CL:1000413   \n",
              "..                                  ...           ...                ...   \n",
              "30                   smooth muscle cell      0.770995         CL:0002598   \n",
              "31          plasmacytoid dendritic cell           1.0         CL:0000784   \n",
              "32                           neutrophil           1.0         CL:0000094   \n",
              "33                   pulmonary ionocyte           1.0         CL:0017000   \n",
              "34  serou cell of epithelium of bronchu      0.738724         CL:0002208   \n",
              "\n",
              "                matched_asctb_label_1  \\\n",
              "0        CAP2 aerocyte capillary gCap   \n",
              "1         CAP1 general capillary aCap   \n",
              "2                    mesothelial cell   \n",
              "3   pulmonary venous endothelial cell   \n",
              "4           arterial endothelial cell   \n",
              "..                                ...   \n",
              "30       bronchial smooth muscle cell   \n",
              "31        plasmacytoid dendritic cell   \n",
              "32                         neutrophil   \n",
              "33                 pulmonary ionocyte   \n",
              "34                          tuft cell   \n",
              "\n",
              "                                 matched_asctb_text_1  match_score_2  \\\n",
              "0   CAP2 aerocyte capillary gCap capillary endothe...       0.503849   \n",
              "1   CAP1 general capillary aCap capillary endothel...       0.428388   \n",
              "2   mesothelial cell mesothelial cell of visceral ...       0.393562   \n",
              "3   pulmonary venous endothelial cell vein endothe...       0.503115   \n",
              "4   arterial endothelial cell arterial endothelial...       0.460811   \n",
              "..                                                ...            ...   \n",
              "30  bronchial smooth muscle cell bronchial smooth ...       0.732254   \n",
              "31  A dendritic cell type of distinct morphology, ...       0.734760   \n",
              "32  A leukocyte with abundant granules in the cyto...       0.513676   \n",
              "33  An ionocyte that is part of the lung epitheliu...       0.650953   \n",
              "34  tuft cell brush cell of bronchus A brush cell ...       0.730998   \n",
              "\n",
              "   matched_asctb_id_2                matched_asctb_label_2  \\\n",
              "0          CL:0002062                                  AT1   \n",
              "1          CL:4028003         CAP2 aerocyte capillary gCap   \n",
              "2     ASCTB CT_ID UNK                      suprabasal cell   \n",
              "3          CL:0002543              venous endothelial cell   \n",
              "4          CL:0002543              venous endothelial cell   \n",
              "..                ...                                  ...   \n",
              "30         CL:0002591  pulmonary artery smooth muscle cell   \n",
              "31         CL:0002399          cDC2 myeloid dendritic cell   \n",
              "32         LMHA:00213              Interstitial macrophage   \n",
              "33         CL:0009089                        lung pericyte   \n",
              "34         CL:0002332              ciliated bronchial cell   \n",
              "\n",
              "                                 matched_asctb_text_2  \n",
              "0   AT1 type I pneumocyte A type I pneumocyte is a...  \n",
              "1   CAP2 aerocyte capillary gCap capillary endothe...  \n",
              "2                                     suprabasal cell  \n",
              "3   venous endothelial cell vein endothelial cell ...  \n",
              "4   venous endothelial cell vein endothelial cell ...  \n",
              "..                                                ...  \n",
              "30  pulmonary artery smooth muscle cell smooth mus...  \n",
              "31  cDC2 myeloid dendritic cell myeloid dendritic ...  \n",
              "32  Interstitial macrophage Interstitial macrophag...  \n",
              "33  lung pericyte lung pericyte A pericyte cell th...  \n",
              "34  ciliated bronchial cell ciliated cell of the b...  \n",
              "\n",
              "[126 rows x 11 columns]"
            ]
          },
          "execution_count": 6,
          "metadata": {},
          "output_type": "execute_result"
        }
      ],
      "source": [
        "from asctb_ct_label_mapper.main import fetch_asctb_reference_embeddings, map_raw_labels_to_asctb\n",
        "\n",
        "\n",
        "MAX_TEXT_LENGTH = 300\n",
        "\n",
        "# Generate the ASCT+B reference embeddings\n",
        "asctb_embeddings_df = fetch_asctb_reference_embeddings(\n",
        "    sentence_encoding_model=SENTENCE_ENCODING_MODEL, \n",
        "    asctb_organ=ASCTB_ORGAN, \n",
        "    asctb_version=ASCTB_VERSION, \n",
        "    max_text_length=MAX_TEXT_LENGTH,\n",
        "    verbose=VERBOSE\n",
        ")\n",
        "\n",
        "# Maintain a report dataframe so we can view agreeability across scRNA-seq datasets/algorithms.\n",
        "ctlabels_translations_df = pd.DataFrame()\n",
        "\n",
        "for SOURCE, RAW_LABELS in source_vs_labels_dict.items():\n",
        "  print(f'Standardizing labels for {SOURCE}')\n",
        "  # Map each of the iterable raw-input labels to an ASCT+B label.\n",
        "  raw_to_asctb_labels_df = map_raw_labels_to_asctb(\n",
        "      source_name=SOURCE,\n",
        "      raw_labels=RAW_LABELS,\n",
        "      sentence_encoding_model=SENTENCE_ENCODING_MODEL, \n",
        "      asctb_embeddings_df=asctb_embeddings_df,\n",
        "      k=K,\n",
        "      verbose=VERBOSE\n",
        "  )\n",
        "  # Append to the report dataframe\n",
        "  ctlabels_translations_df = pd.concat([\n",
        "      ctlabels_translations_df,\n",
        "      raw_to_asctb_labels_df\n",
        "  ])\n",
        "\n",
        "\n",
        "\n",
        "TGT_FILENAME = 'data/All_CTlabels_translations_new.csv'\n",
        "\n",
        "try:\n",
        "    ctlabels_translations_df.loc[ctlabels_translations_df['matched_asctb_label_1'].isna(), 'matched_asctb_label_1'] = ctlabels_translations_df.loc[ctlabels_translations_df['matched_asctb_label_1'].isna(), 'cleaned_input_label']\n",
        "    ctlabels_translations_df.to_csv(TGT_FILENAME, index=False)\n",
        "    print('Wrote the final translations-mapping files to csv!')\n",
        "except Exception as e:\n",
        "    print(f'Something went wrong while trying to write the csv: {e}')\n",
        "\n",
        "ctlabels_translations_df"
      ]
    },
    {
      "cell_type": "code",
      "execution_count": null,
      "metadata": {
        "colab": {
          "base_uri": "https://localhost:8080/",
          "height": 112
        },
        "id": "DyoBjjN3Phoc",
        "outputId": "fa556ebd-4ceb-4516-d8c8-9cca9bbd5da1"
      },
      "outputs": [],
      "source": [
        "asctb_embeddings_df.head(2)"
      ]
    },
    {
      "cell_type": "code",
      "execution_count": null,
      "metadata": {
        "colab": {
          "base_uri": "https://localhost:8080/",
          "height": 835
        },
        "id": "XJ8Kp7_YOKhh",
        "outputId": "4bdd5936-7791-4f89-fdf5-24913f96ff61"
      },
      "outputs": [],
      "source": [
        "from asctb_ct_label_mapper.utilities.nlp_preprocessing import execute_nlp_pipeline\n",
        "\n",
        "\n",
        "def get_exact_asctb_matches(ct_name_cleaned, asctb_embeddings_df, src_colname='CT_ID', verbose=False):\n",
        "  if verbose:  print(ct_name_cleaned)\n",
        "  exact_matching_info = 1.0 if 'match_score'==src_colname else asctb_embeddings_df.loc[asctb_embeddings_df['CT_NAME_CLEANED']==ct_name_cleaned, src_colname].values[0]\n",
        "  if verbose:  print(exact_matching_info)\n",
        "  return exact_matching_info\n",
        "\n",
        "\n",
        "def update_exact_asctb_matches(raw_to_asctb_labels_df, asctb_embeddings_df, k, verbose=False):\n",
        "  \n",
        "  if verbose:  print('Cleaning up the CT-NAME field in the ASCT+B embeddings.')\n",
        "  asctb_embeddings_df['CT_NAME_CLEANED'] = asctb_embeddings_df['CT_NAME'].apply(lambda input_label : ' '.join([execute_nlp_pipeline(word) for word in input_label.split()]))\n",
        "\n",
        "  src_to_target_columns = {\n",
        "      'match_score' : 'match_score_1',\n",
        "      'CT_ID' : 'matched_asctb_id_1',\n",
        "      'CT_NAME' : 'matched_asctb_label_1',\n",
        "      'definition' : 'matched_asctb_text_1'\n",
        "  }      \n",
        "\n",
        "  for src_colname, tgt_colname in src_to_target_columns.items():\n",
        "    raw_to_asctb_labels_df.loc[\n",
        "        raw_to_asctb_labels_df['cleaned_input_label'].isin(asctb_embeddings_df['CT_NAME_CLEANED']), tgt_colname\n",
        "    ] = raw_to_asctb_labels_df.loc[\n",
        "          raw_to_asctb_labels_df['cleaned_input_label'].isin(asctb_embeddings_df['CT_NAME_CLEANED']), 'cleaned_input_label'\n",
        "        ].apply(\n",
        "            get_exact_asctb_matches, \n",
        "            asctb_embeddings_df=asctb_embeddings_df, \n",
        "            src_colname=src_colname, \n",
        "            verbose=verbose\n",
        "        )\n",
        "  if verbose:  print('Fetched all exact information from ASCT+B !')\n",
        "\n",
        "  for i in range(2, k):\n",
        "      raw_to_asctb_labels_df.loc[raw_to_asctb_labels_df['cleaned_input_label'].isin(asctb_embeddings_df['CT_NAME_CLEANED']), f'match_score_{i}'] = np.NaN\n",
        "      raw_to_asctb_labels_df.loc[raw_to_asctb_labels_df['cleaned_input_label'].isin(asctb_embeddings_df['CT_NAME_CLEANED']), f'matched_asctb_id_{i}'] = np.NaN\n",
        "      raw_to_asctb_labels_df.loc[raw_to_asctb_labels_df['cleaned_input_label'].isin(asctb_embeddings_df['CT_NAME_CLEANED']), f'matched_asctb_label_{i}'] = np.NaN\n",
        "      raw_to_asctb_labels_df.loc[raw_to_asctb_labels_df['cleaned_input_label'].isin(asctb_embeddings_df['CT_NAME_CLEANED']), f'matched_asctb_text_{i}'] = np.NaN\n",
        "  return raw_to_asctb_labels_df\n",
        "\n",
        "\n",
        "\n",
        "# ctlabels_translations_df = update_exact_asctb_matches(ctlabels_translations_df, asctb_embeddings_df, K, verbose=False)\n",
        "# x.loc[x['cleaned_input_label'].isin(asctb_embeddings_df['CT_NAME_CLEANED']), :]\n",
        "ctlabels_translations_df.loc[ctlabels_translations_df['cleaned_input_label']=='classical monocyte', :]\n",
        "# asctb_embeddings_df.loc[asctb_embeddings_df['CT_NAME_CLEANED'].str.contains('classical monocyte'), :]"
      ]
    },
    {
      "cell_type": "markdown",
      "metadata": {
        "id": "qiJrVAPQi0rF"
      },
      "source": [
        "# Simpler use case for 1 set of input-labels to be mapped to ASCT+B\n",
        "\n",
        "Creating Crosswalks from one data-source to ASCT+B is possible too!\n",
        "\n",
        "**Note**:\n",
        "* These output reports are meant to be a starting point for creating a standard Crosswalk from Source-A to ASCT+B.\n",
        "* They should still be reviewed by an SME (Biomedical/BioInformatics domains)."
      ]
    },
    {
      "cell_type": "code",
      "execution_count": null,
      "metadata": {
        "colab": {
          "base_uri": "https://localhost:8080/",
          "height": 208
        },
        "id": "o20Luxhfi0Nl",
        "outputId": "92b560e6-4496-4fe1-db2c-1dcbd3c55e49"
      },
      "outputs": [],
      "source": [
        "from asctb_ct_label_mapper.main import fetch_asctb_reference_embeddings, map_raw_labels_to_asctb\n",
        "\n",
        "\n",
        "VERBOSE = False\n",
        "ASCTB_ORGAN = 'Lung'\n",
        "ASCTB_VERSION = 'v1.2'\n",
        "K = 2\n",
        "\n",
        "RAW_LABELS = ['AT1','AT2']\n",
        "SOURCE_NAME = 'Azimuth-HLCAv2'\n",
        "SENTENCE_ENCODING_MODEL = SentenceTransformer('all-mpnet-base-v2')\n",
        "\n",
        "\n",
        "\n",
        "\n",
        "# Generate the ASCT+B reference embeddings\n",
        "asctb_embeddings_df = fetch_asctb_reference_embeddings(\n",
        "    sentence_encoding_model=SENTENCE_ENCODING_MODEL, \n",
        "    asctb_organ=ASCTB_ORGAN, \n",
        "    asctb_version=ASCTB_VERSION, \n",
        "    verbose=VERBOSE\n",
        ")\n",
        "\n",
        "# Map each input label to closest-K-neighbors in ASCT+B\n",
        "report_df = map_raw_labels_to_asctb(\n",
        "    source_name=SOURCE_NAME,\n",
        "    raw_labels=RAW_LABELS,\n",
        "    sentence_encoding_model=SENTENCE_ENCODING_MODEL, \n",
        "    asctb_embeddings_df=asctb_embeddings_df,\n",
        "    k=K,\n",
        "    verbose=VERBOSE\n",
        ")\n",
        "\n",
        "report_df"
      ]
    },
    {
      "cell_type": "code",
      "execution_count": null,
      "metadata": {
        "id": "lDtep_Vstrch"
      },
      "outputs": [],
      "source": [
        "from asctb_ct_label_mapper.main import get_top_k_asctb_label_matches\n",
        "from asctb_ct_label_mapper.utilities.nlp_preprocessing import execute_nlp_pipeline, get_asctb_embedding, is_not_stopword\n",
        "from sklearn.metrics.pairwise import cosine_similarity\n",
        "\n",
        "\n",
        "\n",
        "def check_reference_cosine_similarity(ref_text, sentence_encoding_model, input_embedding):\n",
        "  all_text = []\n",
        "  unique_words = set()\n",
        "  for word in ref_text.split(' '):\n",
        "      cleaned_word = execute_nlp_pipeline(word)\n",
        "      if cleaned_word not in unique_words and is_not_stopword(word):\n",
        "          all_text.append(cleaned_word)\n",
        "          unique_words.add(cleaned_word)\n",
        "  reference_embedding = sentence_encoding_model.encode(' '.join(all_text))\n",
        "\n",
        "  return cosine_similarity(reference_embedding.reshape(1,-1), input_embedding.reshape(1,-1))\n",
        "\n",
        "\n",
        "input_label = 'at1'\n",
        "cleaned_input_label = ' '.join([execute_nlp_pipeline(word) for word in input_label.split()])\n",
        "input_embedding = SENTENCE_ENCODING_MODEL.encode(cleaned_input_label)\n",
        "\n",
        "asctb_all_text_at1 = 'AT1 type I pneumocyte A type I pneumocyte is a flattened, branched pneumocyte that covers more than 98% of the alveolar surface. This large cell has thin (50-100 nm) cytoplasmic extensions to form the air-blood barrier essential for normal gas exchange.'\n",
        "asctb_all_text_at2 = 'AT2 type II pneumocyte A type II pneumocyte is a pneumocyte that modulates the fluid surrounding the alveolar epithelium by secreting and recycling surfactants. This cell type also contributes to tissue repair and can differentiate after injury into a type I pneumocyte. Thicker than squamous alveolar cells, have a rounded apical surface that projects above the level of surrounding epithelium. The free surface is covered by short microvilli.'\n",
        "\n",
        "\n",
        "text1 = 'CD4+ T cell naive CD4+ T cell naive An antigen inexperienced CD4-positive, alpha-beta T cell with the phenotype CCR7-positive, CD127-positive and CD62L-positive. This cell type develops in the thymus. This cell type is also described as being CD25-negative, CD62L-high, and CD44-low.'\n",
        "\n",
        "check_reference_cosine_similarity(asctb_all_text_at1[:200], SENTENCE_ENCODING_MODEL, input_embedding)[0][0], \\\n",
        "  check_reference_cosine_similarity(asctb_all_text_at2[:200], SENTENCE_ENCODING_MODEL, input_embedding)[0][0], \\\n",
        "    check_reference_cosine_similarity(text1, SENTENCE_ENCODING_MODEL, input_embedding)[0][0]"
      ]
    },
    {
      "cell_type": "code",
      "execution_count": null,
      "metadata": {
        "id": "NAFoHgIlOQI5"
      },
      "outputs": [],
      "source": [
        "len(asctb_all_text_at1), len(asctb_all_text_at2)"
      ]
    },
    {
      "cell_type": "markdown",
      "metadata": {
        "id": "Z9rGtsn3fgmA"
      },
      "source": [
        "# Visualize the agreeability of cross-dataset annotations before and after using [ASCTB CT Label Mapper](https://github.com/hubmapconsortium/asctb-ct-label-mapper)."
      ]
    },
    {
      "cell_type": "code",
      "execution_count": null,
      "metadata": {
        "colab": {
          "base_uri": "https://localhost:8080/",
          "height": 373
        },
        "id": "dpaPRc3GiJbJ",
        "outputId": "23ce101b-b503-42c6-e02e-1db35ff28279"
      },
      "outputs": [],
      "source": [
        "from asctb_ct_label_mapper.utilities.plotting import make_venn_diagram\n",
        "\n",
        "\n",
        "\n",
        "all_combos = ctlabels_translations_df.groupby(by=['source'])['raw_input_label'].apply(set)\n",
        "all_sets_list = all_combos.values.tolist()\n",
        "all_labels = all_combos.index.tolist()\n",
        "_ = make_venn_diagram(\n",
        "    A=all_sets_list[0],\n",
        "    B=all_sets_list[1],\n",
        "    C=all_sets_list[2],\n",
        "    labels=(all_labels),\n",
        "    title='Before'\n",
        "    )"
      ]
    },
    {
      "cell_type": "code",
      "execution_count": null,
      "metadata": {
        "colab": {
          "base_uri": "https://localhost:8080/",
          "height": 606
        },
        "id": "Tcn69AWvB8w5",
        "outputId": "447be374-55da-4d10-f353-9761cc38b523"
      },
      "outputs": [],
      "source": [
        "from asctb_ct_label_mapper.utilities.plotting import make_venn_diagram\n",
        "\n",
        "\n",
        "\n",
        "all_combos = ctlabels_translations_df.groupby(by=['source'])['matched_asctb_label'].apply(set)\n",
        "all_sets_list = all_combos.values.tolist()\n",
        "all_labels = all_combos.index.tolist()\n",
        "_ = make_venn_diagram(\n",
        "    A=all_sets_list[0],\n",
        "    B=all_sets_list[1],\n",
        "    C=all_sets_list[2],\n",
        "    labels=(all_labels),\n",
        "    title='After'\n",
        "    )"
      ]
    },
    {
      "cell_type": "markdown",
      "metadata": {
        "id": "a_tT33hyubGZ"
      },
      "source": [
        "## Let's try to visualize the UMAP of the ASCT+B annotation-embeddings"
      ]
    },
    {
      "cell_type": "code",
      "execution_count": null,
      "metadata": {
        "colab": {
          "base_uri": "https://localhost:8080/",
          "height": 1000
        },
        "id": "hj1agIqMqsKa",
        "outputId": "daa6b539-07b2-4ccd-8897-8df69b43e410"
      },
      "outputs": [],
      "source": [
        "import plotly.express as px\n",
        "from umap import UMAP\n",
        "\n",
        "\n",
        "embeddings_df = pd.read_pickle('ontology_embeddings/ASCTB_Lungv1_2.pkl')\n",
        "embeddings_df.loc[embeddings_df['CT_LABEL'].isna(), 'CT_LABEL'] = embeddings_df.loc[embeddings_df['CT_LABEL'].isna(), 'CT_NAME'].fillna('Unknown CT-Label')\n",
        "embeddings_df.loc[embeddings_df['definition'] == 'NaN', 'definition'] = embeddings_df.loc[embeddings_df['definition'] == 'NaN', 'CT_LABEL']\n",
        "embedding_matrix = embeddings_df['embedding_results'].to_numpy()\n",
        "\n",
        "umap_embedding = UMAP(random_state=0, n_components=2)\n",
        "\n",
        "features = np.vstack(embedding_matrix)\n",
        "projections = umap_embedding.fit_transform(features)\n",
        "projections_df = pd.DataFrame(projections)\n",
        "\n",
        "N_CHARS_DEFINITION_HOVER = 150\n",
        "projections_df['Definition'] = [ definition[:N_CHARS_DEFINITION_HOVER] for definition in embeddings_df.loc[:, 'definition'].values ]\n",
        "projections_df['CT_ID'] = embeddings_df.loc[:, 'CT_ID'].replace('ASCTB CT_ID UNK', 'Unknown CT-ID').values\n",
        "projections_df['CT_LABEL'] = embeddings_df.loc[:, 'CT_LABEL']\n",
        "projections_df['CT_NAME'] = embeddings_df.loc[:, 'CT_NAME']\n",
        "\n",
        "\n",
        "fig = px.scatter(\n",
        "    projections_df, \n",
        "    height=1000,\n",
        "    width=1500,\n",
        "    x=0, \n",
        "    y=1,\n",
        "    # z=2,\n",
        "    color='CT_LABEL',\n",
        "    hover_name='CT_ID',\n",
        "    hover_data=['CT_NAME', 'Definition'],\n",
        "    title=f'UMAP projection for sentence-embeddings of ASCT+B {ASCTB_ORGAN}-{ASCTB_VERSION} Cell-Type annotations'\n",
        ")\n",
        "\n",
        "fig.show()"
      ]
    },
    {
      "cell_type": "code",
      "execution_count": null,
      "metadata": {
        "id": "bCh98Db4qthd"
      },
      "outputs": [],
      "source": []
    }
  ],
  "metadata": {
    "colab": {
      "provenance": []
    },
    "gpuClass": "standard",
    "kernelspec": {
      "display_name": "Python 3",
      "name": "python3"
    },
    "language_info": {
      "codemirror_mode": {
        "name": "ipython",
        "version": 3
      },
      "file_extension": ".py",
      "mimetype": "text/x-python",
      "name": "python",
      "nbconvert_exporter": "python",
      "pygments_lexer": "ipython3",
      "version": "3.9.12"
    }
  },
  "nbformat": 4,
  "nbformat_minor": 0
}
